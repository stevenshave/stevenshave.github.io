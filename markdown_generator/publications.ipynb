{
 "cells": [
  {
   "cell_type": "markdown",
   "metadata": {
    "deletable": true,
    "editable": true
   },
   "source": [
    "# Publications markdown generator for academicpages\n",
    "\n",
    "Takes a TSV of publications with metadata and converts them for use with [academicpages.github.io](academicpages.github.io). This is an interactive Jupyter notebook ([see more info here](http://jupyter-notebook-beginner-guide.readthedocs.io/en/latest/what_is_jupyter.html)). The core python code is also in `publications.py`. Run either from the `markdown_generator` folder after replacing `publications.tsv` with one containing your data.\n",
    "\n",
    "TODO: Make this work with BibTex and other databases of citations, rather than Stuart's non-standard TSV format and citation style.\n"
   ]
  },
  {
   "cell_type": "markdown",
   "metadata": {},
   "source": [
    "## Data format\n",
    "\n",
    "The TSV needs to have the following columns: pub_date, title, venue, excerpt, citation, site_url, and paper_url, with a header at the top. \n",
    "\n",
    "- `excerpt` and `paper_url` can be blank, but the others must have values. \n",
    "- `pub_date` must be formatted as YYYY-MM-DD.\n",
    "- `url_slug` will be the descriptive part of the .md file and the permalink URL for the page about the paper. The .md file will be `YYYY-MM-DD-[url_slug].md` and the permalink will be `https://[yourdomain]/publications/YYYY-MM-DD-[url_slug]`\n",
    "\n",
    "This is how the raw file looks (it doesn't look pretty, use a spreadsheet or other program to edit and create)."
   ]
  },
  {
   "cell_type": "code",
   "execution_count": 6,
   "metadata": {
    "collapsed": false
   },
   "outputs": [
    {
     "name": "stdout",
     "output_type": "stream",
     "text": [
      "pub_date        title   Citation        URL     paper_filename\n",
      "2023    Evolution and impact of high content imaging    \"Gregory Way, Heba Sailem, Steven Shave, Richard Kasprowicz, Neil Carragher, \"\"Evolution and impact of high content imaging.\"\" Slas Discovery, 2023.\"   https://slas-discovery.org/article/S2472-5552(23)00066-7/fulltext       2023_Evolution_and_impact_of_HCI.pdf\n",
      "2023    Phenonaut: multiomics data integration for phenotypic space exploration \"Steven Shave, John Dawson, Abdullah Athar, Cuong Nguyen, Richard Kasprowicz, Neil Carragher, \"\"Phenonaut: multiomics data integration for phenotypic space exploration.\"\" Bioinformatics, 2023.\"       https://academic.oup.com/bioinformatics/article/39/4/btad143/7082955    2023_Phenonaut.pdf\n",
      "2022    Chemical interrogation of nuclear size identifies compounds with cancer cell line-specific effects on migration and invasion    \"Sylvain Tollis, Andrea Rizzotto, Nhan Pham, Sonja Koivukoski, Aishwarya Sivakumar, Steven Shave, Jan Wildenhain, Nikolaj Zuleger, Jeremy Keys, Jayne Culley, Yijing Zheng, Jan Lammerding, Neil Carragher, Valerie Brunton, Leena Latonen, Manfred Auer, Mike Tyers, Eric Schirmer, \"\"Chemical interrogation of nuclear size identifies compounds with cancer cell line-specific effects on migration and invasion.\"\" ACS chemical biology, 2022.\"     https://pubs.acs.org/doi/10.1021/acschembio.2c00004     2022_Chemical_Interrogation_of_Nuclear_Size.pdf\n",
      "2022    CLAffinity: A Software Tool for Identification of Optimum Ligand Affinity for Competition-Based Primary Screens \"Steven Shave, Nhan Pham, Manfred Auer, \"\"CLAffinity: A Software Tool for Identification of Optimum Ligand Affinity for Competition-Based Primary Screens.\"\" Journal of Chemical Information and Modeling, 2022.\"       https://pubs.acs.org/doi/10.1021/acs.jcim.2c00285       2022_CLAffinity.pdf\n",
      "2021    SimilarityLab: molecular similarity for SAR exploration and target prediction on the web        \"Steven Shave, Manfred Auer, \"\"SimilarityLab: molecular similarity for SAR exploration and target prediction on the web.\"\" Processes, 2021.\"    https://www.mdpi.com/2227-9717/9/9/1520 2021_SimilarityLab.pdf\n",
      "2021    Mrlogp: transfer learning enables accurate logp prediction using small experimental training datasets   \"Yan-Kai Chen, Steven Shave, Manfred Auer, \"\"Mrlogp: transfer learning enables accurate logp prediction using small experimental training datasets.\"\" Processes, 2021.\" https://www.mdpi.com/2227-9717/9/11/2029        2021_MRlogP.pdf\n",
      "2021    \"PyBindingCurve, simulation, and curve fitting to complex binding systems at equilibrium\"       \"Steven Shave, Yan-Kai Chen, Nhan Pham, Manfred Auer, \"\"PyBindingCurve, simulation, and curve fitting to complex binding systems at equilibrium.\"\" Journal of Chemical Information and Modeling, 2021.\" https://pubs.acs.org/doi/10.1021/acs.jcim.1c00216       2021_PyBindingCurve.pdf\n"
     ]
    }
   ],
   "source": [
    "!more publications.tsv"
   ]
  },
  {
   "cell_type": "markdown",
   "metadata": {},
   "source": [
    "## Import TSV\n",
    "\n",
    "Pandas makes this easy with the read_csv function. We are using a TSV, so we specify the separator as a tab, or `\\t`.\n",
    "\n",
    "I found it important to put this data in a tab-separated values format, because there are a lot of commas in this kind of data and comma-separated values can get messed up. However, you can modify the import statement, as pandas also has read_excel(), read_json(), and others."
   ]
  },
  {
   "cell_type": "code",
   "execution_count": 7,
   "metadata": {
    "collapsed": false,
    "deletable": true,
    "editable": true
   },
   "outputs": [
    {
     "data": {
      "text/html": [
       "<div>\n",
       "<style scoped>\n",
       "    .dataframe tbody tr th:only-of-type {\n",
       "        vertical-align: middle;\n",
       "    }\n",
       "\n",
       "    .dataframe tbody tr th {\n",
       "        vertical-align: top;\n",
       "    }\n",
       "\n",
       "    .dataframe thead th {\n",
       "        text-align: right;\n",
       "    }\n",
       "</style>\n",
       "<table border=\"1\" class=\"dataframe\">\n",
       "  <thead>\n",
       "    <tr style=\"text-align: right;\">\n",
       "      <th></th>\n",
       "      <th>pub_date</th>\n",
       "      <th>title</th>\n",
       "      <th>citation</th>\n",
       "      <th>url</th>\n",
       "      <th>pdf_filename</th>\n",
       "      <th>code</th>\n",
       "    </tr>\n",
       "  </thead>\n",
       "  <tbody>\n",
       "    <tr>\n",
       "      <th>0</th>\n",
       "      <td>2023</td>\n",
       "      <td>Evolution and impact of high content imaging</td>\n",
       "      <td>Gregory Way, Heba Sailem, Steven Shave, Richar...</td>\n",
       "      <td>https://slas-discovery.org/article/S2472-5552(...</td>\n",
       "      <td>2023_Evolution_and_impact_of_HCI.pdf</td>\n",
       "      <td>NaN</td>\n",
       "    </tr>\n",
       "    <tr>\n",
       "      <th>1</th>\n",
       "      <td>2023</td>\n",
       "      <td>Phenonaut: multiomics data integration for phe...</td>\n",
       "      <td>Steven Shave, John Dawson, Abdullah Athar, Cuo...</td>\n",
       "      <td>https://academic.oup.com/bioinformatics/articl...</td>\n",
       "      <td>2023_Phenonaut.pdf</td>\n",
       "      <td>https://github.com/CarragherLab/phenonaut</td>\n",
       "    </tr>\n",
       "    <tr>\n",
       "      <th>2</th>\n",
       "      <td>2022</td>\n",
       "      <td>Chemical interrogation of nuclear size identif...</td>\n",
       "      <td>Sylvain Tollis, Andrea Rizzotto, Nhan Pham, So...</td>\n",
       "      <td>https://pubs.acs.org/doi/10.1021/acschembio.2c...</td>\n",
       "      <td>2022_Chemical_Interrogation_of_Nuclear_Size.pdf</td>\n",
       "      <td>NaN</td>\n",
       "    </tr>\n",
       "    <tr>\n",
       "      <th>3</th>\n",
       "      <td>2022</td>\n",
       "      <td>CLAffinity: A Software Tool for Identification...</td>\n",
       "      <td>Steven Shave, Nhan Pham, Manfred Auer, \"CLAffi...</td>\n",
       "      <td>https://pubs.acs.org/doi/10.1021/acs.jcim.2c00285</td>\n",
       "      <td>2022_CLAffinity.pdf</td>\n",
       "      <td>https://github.com/stevenshave/competition-lab...</td>\n",
       "    </tr>\n",
       "    <tr>\n",
       "      <th>4</th>\n",
       "      <td>2021</td>\n",
       "      <td>SimilarityLab: molecular similarity for SAR ex...</td>\n",
       "      <td>Steven Shave, Manfred Auer, \"SimilarityLab: mo...</td>\n",
       "      <td>https://www.mdpi.com/2227-9717/9/9/1520</td>\n",
       "      <td>2021_SimilarityLab.pdf</td>\n",
       "      <td>https://github.com/stevenshave/similaritylab</td>\n",
       "    </tr>\n",
       "    <tr>\n",
       "      <th>5</th>\n",
       "      <td>2021</td>\n",
       "      <td>Mrlogp: transfer learning enables accurate log...</td>\n",
       "      <td>Yan-Kai Chen, Steven Shave, Manfred Auer, \"Mrl...</td>\n",
       "      <td>https://www.mdpi.com/2227-9717/9/11/2029</td>\n",
       "      <td>2021_MRlogP.pdf</td>\n",
       "      <td>https://github.com/JustinYKC/MRlogP</td>\n",
       "    </tr>\n",
       "    <tr>\n",
       "      <th>6</th>\n",
       "      <td>2021</td>\n",
       "      <td>PyBindingCurve, simulation, and curve fitting ...</td>\n",
       "      <td>Steven Shave, Yan-Kai Chen, Nhan Pham, Manfred...</td>\n",
       "      <td>https://pubs.acs.org/doi/10.1021/acs.jcim.1c00216</td>\n",
       "      <td>2021_PyBindingCurve.pdf</td>\n",
       "      <td>https://github.com/stevenshave/pybindingcurve</td>\n",
       "    </tr>\n",
       "  </tbody>\n",
       "</table>\n",
       "</div>"
      ],
      "text/plain": [
       "   pub_date                                              title  \\\n",
       "0      2023       Evolution and impact of high content imaging   \n",
       "1      2023  Phenonaut: multiomics data integration for phe...   \n",
       "2      2022  Chemical interrogation of nuclear size identif...   \n",
       "3      2022  CLAffinity: A Software Tool for Identification...   \n",
       "4      2021  SimilarityLab: molecular similarity for SAR ex...   \n",
       "5      2021  Mrlogp: transfer learning enables accurate log...   \n",
       "6      2021  PyBindingCurve, simulation, and curve fitting ...   \n",
       "\n",
       "                                            citation  \\\n",
       "0  Gregory Way, Heba Sailem, Steven Shave, Richar...   \n",
       "1  Steven Shave, John Dawson, Abdullah Athar, Cuo...   \n",
       "2  Sylvain Tollis, Andrea Rizzotto, Nhan Pham, So...   \n",
       "3  Steven Shave, Nhan Pham, Manfred Auer, \"CLAffi...   \n",
       "4  Steven Shave, Manfred Auer, \"SimilarityLab: mo...   \n",
       "5  Yan-Kai Chen, Steven Shave, Manfred Auer, \"Mrl...   \n",
       "6  Steven Shave, Yan-Kai Chen, Nhan Pham, Manfred...   \n",
       "\n",
       "                                                 url  \\\n",
       "0  https://slas-discovery.org/article/S2472-5552(...   \n",
       "1  https://academic.oup.com/bioinformatics/articl...   \n",
       "2  https://pubs.acs.org/doi/10.1021/acschembio.2c...   \n",
       "3  https://pubs.acs.org/doi/10.1021/acs.jcim.2c00285   \n",
       "4            https://www.mdpi.com/2227-9717/9/9/1520   \n",
       "5           https://www.mdpi.com/2227-9717/9/11/2029   \n",
       "6  https://pubs.acs.org/doi/10.1021/acs.jcim.1c00216   \n",
       "\n",
       "                                      pdf_filename  \\\n",
       "0             2023_Evolution_and_impact_of_HCI.pdf   \n",
       "1                               2023_Phenonaut.pdf   \n",
       "2  2022_Chemical_Interrogation_of_Nuclear_Size.pdf   \n",
       "3                              2022_CLAffinity.pdf   \n",
       "4                           2021_SimilarityLab.pdf   \n",
       "5                                  2021_MRlogP.pdf   \n",
       "6                          2021_PyBindingCurve.pdf   \n",
       "\n",
       "                                                code  \n",
       "0                                                NaN  \n",
       "1          https://github.com/CarragherLab/phenonaut  \n",
       "2                                                NaN  \n",
       "3  https://github.com/stevenshave/competition-lab...  \n",
       "4       https://github.com/stevenshave/similaritylab  \n",
       "5                https://github.com/JustinYKC/MRlogP  \n",
       "6      https://github.com/stevenshave/pybindingcurve  "
      ]
     },
     "execution_count": 7,
     "metadata": {},
     "output_type": "execute_result"
    }
   ],
   "source": [
    "import pandas as pd\n",
    "publications_df = pd.read_csv(\"publications.tsv\", sep=\"\\t\", header=0)\n",
    "publications_df\n"
   ]
  },
  {
   "cell_type": "markdown",
   "metadata": {},
   "source": [
    "## Escape special characters\n",
    "\n",
    "YAML is very picky about how it takes a valid string, so we are replacing single and double quotes (and ampersands) with their HTML encoded equivilents. This makes them look not so readable in raw format, but they are parsed and rendered nicely."
   ]
  },
  {
   "cell_type": "code",
   "execution_count": 8,
   "metadata": {
    "collapsed": true,
    "deletable": true,
    "editable": true
   },
   "outputs": [],
   "source": [
    "html_escape_table = {\n",
    "    \"&\": \"&amp;\",\n",
    "    '\"': \"&quot;\",\n",
    "    \"'\": \"&apos;\"\n",
    "    }\n",
    "\n",
    "def html_escape(text):\n",
    "    \"\"\"Produce entities within text.\"\"\"\n",
    "    return \"\".join(html_escape_table.get(c,c) for c in text)"
   ]
  },
  {
   "cell_type": "markdown",
   "metadata": {},
   "source": [
    "## Creating the markdown files\n",
    "\n",
    "This is where the heavy lifting is done. This loops through all the rows in the TSV dataframe, then starts to concatentate a big string (```md```) that contains the markdown for each type. It does the YAML metadata first, then does the description for the individual page."
   ]
  },
  {
   "cell_type": "code",
   "execution_count": 15,
   "metadata": {
    "collapsed": false,
    "deletable": true,
    "editable": true
   },
   "outputs": [
    {
     "name": "stdout",
     "output_type": "stream",
     "text": [
      "pub_date                                                     2023\n",
      "title                Evolution and impact of high content imaging\n",
      "citation        Gregory Way, Heba Sailem, Steven Shave, Richar...\n",
      "url             https://slas-discovery.org/article/S2472-5552(...\n",
      "pdf_filename                 2023_Evolution_and_impact_of_HCI.pdf\n",
      "code                                                          NaN\n",
      "Name: 0, dtype: object\n",
      "pub_date                                                     2023\n",
      "title           Phenonaut: multiomics data integration for phe...\n",
      "citation        Steven Shave, John Dawson, Abdullah Athar, Cuo...\n",
      "url             https://academic.oup.com/bioinformatics/articl...\n",
      "pdf_filename                                   2023_Phenonaut.pdf\n",
      "code                    https://github.com/CarragherLab/phenonaut\n",
      "Name: 1, dtype: object\n",
      "pub_date                                                     2022\n",
      "title           Chemical interrogation of nuclear size identif...\n",
      "citation        Sylvain Tollis, Andrea Rizzotto, Nhan Pham, So...\n",
      "url             https://pubs.acs.org/doi/10.1021/acschembio.2c...\n",
      "pdf_filename      2022_Chemical_Interrogation_of_Nuclear_Size.pdf\n",
      "code                                                          NaN\n",
      "Name: 2, dtype: object\n",
      "pub_date                                                     2022\n",
      "title           CLAffinity: A Software Tool for Identification...\n",
      "citation        Steven Shave, Nhan Pham, Manfred Auer, \"CLAffi...\n",
      "url             https://pubs.acs.org/doi/10.1021/acs.jcim.2c00285\n",
      "pdf_filename                                  2022_CLAffinity.pdf\n",
      "code            https://github.com/stevenshave/competition-lab...\n",
      "Name: 3, dtype: object\n",
      "pub_date                                                     2021\n",
      "title           SimilarityLab: molecular similarity for SAR ex...\n",
      "citation        Steven Shave, Manfred Auer, \"SimilarityLab: mo...\n",
      "url                       https://www.mdpi.com/2227-9717/9/9/1520\n",
      "pdf_filename                               2021_SimilarityLab.pdf\n",
      "code                 https://github.com/stevenshave/similaritylab\n",
      "Name: 4, dtype: object\n",
      "pub_date                                                     2021\n",
      "title           Mrlogp: transfer learning enables accurate log...\n",
      "citation        Yan-Kai Chen, Steven Shave, Manfred Auer, \"Mrl...\n",
      "url                      https://www.mdpi.com/2227-9717/9/11/2029\n",
      "pdf_filename                                      2021_MRlogP.pdf\n",
      "code                          https://github.com/JustinYKC/MRlogP\n",
      "Name: 5, dtype: object\n",
      "pub_date                                                     2021\n",
      "title           PyBindingCurve, simulation, and curve fitting ...\n",
      "citation        Steven Shave, Yan-Kai Chen, Nhan Pham, Manfred...\n",
      "url             https://pubs.acs.org/doi/10.1021/acs.jcim.1c00216\n",
      "pdf_filename                              2021_PyBindingCurve.pdf\n",
      "code                https://github.com/stevenshave/pybindingcurve\n",
      "Name: 6, dtype: object\n"
     ]
    }
   ],
   "source": [
    "import os\n",
    "\n",
    "with open(\"../_pages/publications_list.md\", 'w') as f:\n",
    "    for idx, row in publications_df.iterrows():\n",
    "        print(row)\n",
    "        md=f\"### {row.title}\\n\\n\"\n",
    "        md+=f\"{row.citation}\\n\\n\"\n",
    "        if len(row.url)>5:\n",
    "            md+=f\"{row.url}\\n\"\n",
    "        if pd.notna(row.pdf_filename) and len(row.pdf_filename)>5:\n",
    "            md+=f'<a href=\"files/{row.pdf_filename}\"><i class=\"fas fa-fw fa-file-pdf zoom\" aria-hidden=\"true\"></i></a>\\n'\n",
    "        if pd.notna(row.code) and len(row.code)>5:\n",
    "            md+=f\"{row.code}\\n\"\n",
    "        \n",
    "        md+=\"\\n\"\n",
    "        # assert False\n",
    "        #\n",
    "        #     md += \"\\npaperurl: '\" + item.paper_url + \"'\"\n",
    "        \n",
    "        # md += \"\\ncitation: '\" + html_escape(item.citation) + \"'\"\n",
    "        \n",
    "        # md += \"\\n---\"\n",
    "        \n",
    "        # ## Markdown description for individual page\n",
    "            \n",
    "        # if len(str(item.excerpt)) > 5:\n",
    "        #     md += \"\\n\" + html_escape(item.excerpt) + \"\\n\"\n",
    "        \n",
    "        # if len(str(item.paper_url)) > 5:\n",
    "        #     md += \"\\n[Download paper here](\" + item.paper_url + \")\\n\" \n",
    "            \n",
    "        # md += \"\\nRecommended citation: \" + item.citation\n",
    "        \n",
    "        # md_filename = os.path.basename(md_filename)\n",
    "        \n",
    "        # with open(\"../pages/publications_list.md\" + md_filename, 'w') as f:\n",
    "        f.write(md)"
   ]
  },
  {
   "cell_type": "markdown",
   "metadata": {},
   "source": [
    "These files are in the publications directory, one directory below where we're working from."
   ]
  },
  {
   "cell_type": "code",
   "execution_count": 6,
   "metadata": {
    "collapsed": false,
    "deletable": true,
    "editable": true
   },
   "outputs": [
    {
     "name": "stdout",
     "output_type": "stream",
     "text": [
      "2009-10-01-paper-title-number-1.md  2015-10-01-paper-title-number-3.md\r\n",
      "2010-10-01-paper-title-number-2.md\r\n"
     ]
    }
   ],
   "source": [
    "!ls ../_publications/"
   ]
  },
  {
   "cell_type": "code",
   "execution_count": 7,
   "metadata": {
    "collapsed": false,
    "deletable": true,
    "editable": true
   },
   "outputs": [
    {
     "name": "stdout",
     "output_type": "stream",
     "text": [
      "---\r\n",
      "title: \"Paper Title Number 1\"\r\n",
      "collection: publications\r\n",
      "permalink: /publication/2009-10-01-paper-title-number-1\r\n",
      "excerpt: 'This paper is about the number 1. The number 2 is left for future work.'\r\n",
      "date: 2009-10-01\r\n",
      "venue: 'Journal 1'\r\n",
      "paperurl: 'http://academicpages.github.io/files/paper1.pdf'\r\n",
      "citation: 'Your Name, You. (2009). &quot;Paper Title Number 1.&quot; <i>Journal 1</i>. 1(1).'\r\n",
      "---\r\n",
      "This paper is about the number 1. The number 2 is left for future work.\r\n",
      "\r\n",
      "[Download paper here](http://academicpages.github.io/files/paper1.pdf)\r\n",
      "\r\n",
      "Recommended citation: Your Name, You. (2009). \"Paper Title Number 1.\" <i>Journal 1</i>. 1(1)."
     ]
    }
   ],
   "source": [
    "!cat ../_publications/2009-10-01-paper-title-number-1.md"
   ]
  },
  {
   "cell_type": "code",
   "execution_count": null,
   "metadata": {
    "collapsed": true,
    "deletable": true,
    "editable": true
   },
   "outputs": [],
   "source": []
  }
 ],
 "metadata": {
  "kernelspec": {
   "display_name": "Python 3",
   "language": "python",
   "name": "python3"
  },
  "language_info": {
   "codemirror_mode": {
    "name": "ipython",
    "version": 3
   },
   "file_extension": ".py",
   "mimetype": "text/x-python",
   "name": "python",
   "nbconvert_exporter": "python",
   "pygments_lexer": "ipython3",
   "version": "3.11.0"
  }
 },
 "nbformat": 4,
 "nbformat_minor": 0
}
